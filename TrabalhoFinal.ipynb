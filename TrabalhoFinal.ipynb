{
  "nbformat": 4,
  "nbformat_minor": 0,
  "metadata": {
    "colab": {
      "provenance": []
    },
    "kernelspec": {
      "name": "python3",
      "display_name": "Python 3"
    },
    "language_info": {
      "name": "python"
    }
  },
  "cells": [
    {
      "cell_type": "markdown",
      "source": [
        "# Orientações para o trabalho final\n",
        "\n",
        "A idéia desta atividade é realizar a paralelização de uma aplicação ou comparação entre plataformas usando algumas das estratégias apresentadas no curso.  O problema não é fixo, fica à escolha, mas tem que tratar de um problema com complexidade ou volume de processamento relevante. Exemplos de problema incluem [Stencils](https://en.wikipedia.org/wiki/Stencil_code), [String matching](https://en.wikipedia.org/wiki/String-searching_algorithm) e [ordenação](https://en.wikipedia.org/wiki/Sorting_algorithm), entre outros. Resumidamente, os passos para o desenvolvimento do trabalho são os seguintes:\n",
        "\n",
        "1. Encontre e clone ou crie um repositório com o código que queira trabalhar;\n",
        "2. Execute o código inicial e salve os resultados obtidos;\n",
        "3. Faça as modificações que desejar para otimizar o código ou comparar seu desempenho entre diferentes arquiteturas/plataformas;\n",
        "4. Execute cada versão que julgar relevante salvando os resultados obtidos;\n",
        "5. Elabore um gráfico comparativo das versões;\n",
        "6. Elebore um relatório com a discussão dos resultados no README.md na raiz, contendo:\n",
        "  - Descrição do problema;\n",
        "  - Estratégia de paralelização;\n",
        "  - Versão sequencial de referência (apenas trecho de interesse para paralelização);\n",
        "  - Versão paralela comentada (apenas trecho de interesse de paralelização);\n",
        "  - Análise da escalabilidade: esperada e obtida;\n",
        "  - Discussão sobre a eficiência da solução;\n",
        "  - Conclusões;\n",
        "7. Envie o link do repositório para correção. \n",
        "\n",
        "O repositório no GitHub, com o material desenvolvido, deve conter:\n",
        "- O código inicial (para sabermos de onde você partiu);\n",
        "- Commits/Releases para versões modificadas;\n",
        "- Comparativo entre elas incluindo gráficos e discussão.\n",
        "\n",
        "## Ambientes para desenvolver o trabalho\n",
        "\n",
        "- https://localhost/\n",
        "- https://devcloud.intel.com/oneapi/\n",
        "- https://colab.research.google.com/\n",
        "- https://coliru.stacked-crooked.com/\n",
        "\n",
        "## Sugestões de repositórios\n",
        "\n",
        "- Aplicações para serem paralelizadas\n",
        "  - https://www.prowaretech.com/articles/current/c-plus-plus/algorithms/\n",
        "  - https://github.com/menotti/lalp/tree/master/src/br/ufscar/dc/lalp/examples\n",
        "- Aplicações já paralelizadas (modificar parâmetros e comparar entre plataformas/arquiteturas distintas)\n",
        "  - https://www.cs.virginia.edu/rodinia/\n",
        "  - https://github.com/zjin-lcf/HeCBench\n",
        "  - https://github.com/oneapi-src/oneAPI-samples \n",
        "\n",
        "## Passo a passo\n",
        "\n",
        "A seguir estão alguns passos que podem facilitar o desenvolvimento do trabalho.\n",
        "São apenas sugestões, podem fazer como acharem melhor. Se quiserem incluir também scripts e notebooks de automação no repositório, serão bem vindos. \n",
        "\n",
        "O comando da célula abaixo clona um repositório localmente. Ele precisa ser seu para você poder atualizar posteriormente. Selecione no GitHub o repositório escolhido e crie um fork dele, como na imagem abaixo:\n",
        " \n",
        "![Fork repo](https://raw.githubusercontent.com/menotti/pp/master/figs/fork.png \"Fork repo\")\n",
        "\n",
        "Depois coloque na variável `REPO` abaixo o link para o seu fork do repositório. \n",
        "\n",
        "Aproveitei a célula para instalar o pacote `time` para medir o tempo de execução. Se quiser instalar outros pacotes basta adicionar os nomes na frente do mesmo comando separados por espaço.\n",
        "\n",
        "\n"
      ],
      "metadata": {
        "id": "EayeVa_QW1ne"
      }
    },
    {
      "cell_type": "code",
      "execution_count": 1,
      "metadata": {
        "colab": {
          "base_uri": "https://localhost:8080/"
        },
        "id": "UaVlyoYSWfOf",
        "outputId": "3bb6d0a8-1143-4be5-9638-2a766982adad"
      },
      "outputs": [
        {
          "output_type": "stream",
          "name": "stdout",
          "text": [
            "Cloning into 'pp'...\n",
            "remote: Enumerating objects: 709, done.\u001b[K\n",
            "remote: Counting objects: 100% (61/61), done.\u001b[K\n",
            "remote: Compressing objects: 100% (37/37), done.\u001b[K\n",
            "remote: Total 709 (delta 32), reused 43 (delta 23), pack-reused 648\u001b[K\n",
            "Receiving objects: 100% (709/709), 115.85 MiB | 17.61 MiB/s, done.\n",
            "Resolving deltas: 100% (270/270), done.\n",
            "Updating files: 100% (99/99), done.\n",
            "Reading package lists... Done\n",
            "Building dependency tree       \n",
            "Reading state information... Done\n",
            "The following NEW packages will be installed:\n",
            "  time\n",
            "0 upgraded, 1 newly installed, 0 to remove and 23 not upgraded.\n",
            "Need to get 26.2 kB of archives.\n",
            "After this operation, 79.9 kB of additional disk space will be used.\n",
            "Get:1 http://archive.ubuntu.com/ubuntu focal/main amd64 time amd64 1.7-25.1build1 [26.2 kB]\n",
            "Fetched 26.2 kB in 0s (55.0 kB/s)\n",
            "Selecting previously unselected package time.\n",
            "(Reading database ... 128285 files and directories currently installed.)\n",
            "Preparing to unpack .../time_1.7-25.1build1_amd64.deb ...\n",
            "Unpacking time (1.7-25.1build1) ...\n",
            "Setting up time (1.7-25.1build1) ...\n",
            "Processing triggers for man-db (2.9.1-1) ...\n"
          ]
        }
      ],
      "source": [
        "REPO = 'https://github.com/menotti/pp'\n",
        "!git clone $REPO\n",
        "!apt install time"
      ]
    },
    {
      "cell_type": "markdown",
      "source": [
        "Preecha na célula abaixo o caminho da aplicação dentro do repositório e execute-a para compilar e rodar o programa. "
      ],
      "metadata": {
        "id": "mbFtUWJl0qNC"
      }
    },
    {
      "cell_type": "code",
      "source": [
        "MY_PATH = 'pp/code/OpenMP'\n",
        "!cd $MY_PATH && make && make run"
      ],
      "metadata": {
        "colab": {
          "base_uri": "https://localhost:8080/"
        },
        "id": "DrTOyGXv0wz7",
        "outputId": "d02c9249-0442-4b3b-aead-1a7e1455fbc5"
      },
      "execution_count": 4,
      "outputs": [
        {
          "output_type": "stream",
          "name": "stdout",
          "text": [
            "g++ -std=c++17 -O2 -Wall -fopenmp -pedantic main.cpp\n",
            "time ./a.out\n",
            "Esta máquina tem 2 processadores.\n",
            "1.73user 0.01system 0:01.77elapsed 98%CPU (0avgtext+0avgdata 15564maxresident)k\n",
            "24inputs+0outputs (2major+3083minor)pagefaults 0swaps\n"
          ]
        }
      ]
    },
    {
      "cell_type": "markdown",
      "source": [
        "Você pode criar ou alterar o Makefile usando a célula abaixo:"
      ],
      "metadata": {
        "id": "rjGZQA6b1YQ0"
      }
    },
    {
      "cell_type": "code",
      "source": [
        "%%writefile $MY_PATH/Makefile\n",
        "CXX=g++\n",
        "CXXFLAGS=-std=c++17 -O2 -Wall -fopenmp -pedantic\n",
        "\n",
        "a.out: main.cpp\n",
        "\t$(CXX) $(CXXFLAGS) main.cpp\n",
        "\n",
        "run:\n",
        "\ttime ./a.out\n",
        "\n",
        "clean:\n",
        "\trm a.out\n"
      ],
      "metadata": {
        "colab": {
          "base_uri": "https://localhost:8080/"
        },
        "id": "Ag9F7Mw-1fyl",
        "outputId": "677e30c1-0e7f-4e8c-96ff-24e33a10cf6c"
      },
      "execution_count": 3,
      "outputs": [
        {
          "output_type": "stream",
          "name": "stdout",
          "text": [
            "Overwriting pp/code/OpenMP/Makefile\n"
          ]
        }
      ]
    },
    {
      "cell_type": "markdown",
      "source": [
        "Você pode anotar manualmente os tempos e colocar em um arquivo .csv ou mudar o código do seu programa para que ele grave diretamente no arquivo a cada execução. \n",
        "\n",
        "É uma prática comum executar o código várias vezes para calcular a média e intervalor de confiança. A primeira execução pode ser descartada, pois costuma demorar mais.  "
      ],
      "metadata": {
        "id": "-_-zXzhWgQxv"
      }
    },
    {
      "cell_type": "code",
      "source": [
        "%%writefile tempos.csv\n",
        "platform, version, execution_time_s\n",
        "CPU, Serial, 1.95\n",
        "CPU, Serial, 1.86\n",
        "CPU, Serial, 2.01\n",
        "CPU, Serial, 1.84\n",
        "CPU, Serial, 1.96\n",
        "GPU, Paralelo, 1.81\n",
        "GPU, Paralelo, 1.72\n",
        "GPU, Paralelo, 1.66\n",
        "GPU, Paralelo, 1.74\n",
        "GPU, Paralelo, 1.73"
      ],
      "metadata": {
        "colab": {
          "base_uri": "https://localhost:8080/"
        },
        "id": "T4OxGj6igj4U",
        "outputId": "7f72de87-cb5b-4548-ec42-e2d04e10f6c6"
      },
      "execution_count": 5,
      "outputs": [
        {
          "output_type": "stream",
          "name": "stdout",
          "text": [
            "Writing tempos.csv\n"
          ]
        }
      ]
    },
    {
      "cell_type": "markdown",
      "source": [
        "Faças modificações que julgar necessárias no código, execute as diferentes versões e colete os dados que achar importantes.\n",
        "\n",
        "Você pode usar blocos de código como este para explicar as modificações que fez:\n",
        "\n",
        "```cpp\n",
        "    /* Multiplicação tradicional */\n",
        "    for(i=0; i < DIM; i++)\n",
        "        for(j=0; j < DIM; j++) {\n",
        "            C[i][j] = 0;\n",
        "            for(k=0; k < DIM; k++)\n",
        "                C[i][j] = C[i][j] + A[i][k] * B[k][j]; \n",
        "        }\n",
        "```\n",
        "\n",
        "> A sintaxe Markdown do GitHub é praticamente a mesma do Jupyter Notebooks.\n",
        "\n",
        "Por fim, você pode usar o pacote `pandas` para plotar gráficos dos seus dados como este abaixo. Salve o(s) arquivo(s) e inclua no seu relatório. "
      ],
      "metadata": {
        "id": "Mm3UHb6Km0LK"
      }
    },
    {
      "cell_type": "code",
      "source": [
        "import os\n",
        "import pandas as pd\n",
        "\n",
        "FILENAME = 'tempos.csv'\n",
        "\n",
        "if os.path.isfile(FILENAME):\n",
        "    df = pd.read_csv(FILENAME)\n",
        "\n",
        "by_version = df.groupby(by=\"platform\", sort=False)\n",
        "avg_time = by_version.mean()\n",
        "std = by_version.std()\n",
        "plt = avg_time.plot(legend=False, kind=\"bar\", yerr=std, xlabel=\"\")\n",
        "plt.set_title(\"Average execution time\")\n",
        "plt.set_ylabel(\"Execution time (s)\")"
      ],
      "metadata": {
        "colab": {
          "base_uri": "https://localhost:8080/",
          "height": 309
        },
        "id": "foU7qTu7jeoU",
        "outputId": "229c198e-cd0d-4894-ac0d-52ad95be0ed4"
      },
      "execution_count": 6,
      "outputs": [
        {
          "output_type": "execute_result",
          "data": {
            "text/plain": [
              "Text(0, 0.5, 'Execution time (s)')"
            ]
          },
          "metadata": {},
          "execution_count": 6
        },
        {
          "output_type": "display_data",
          "data": {
            "text/plain": [
              "<Figure size 432x288 with 1 Axes>"
            ],
            "image/png": "[encoded data removed]"
          },
          "metadata": {
            "needs_background": "light"
          }
        }
      ]
    },
    {
      "cell_type": "markdown",
      "source": [
        "Não esqueça de subir de volta no repositório o código modificado. Isso facilita a correção, pois conseguimos ver facilmente as modificações que ocorreram nele. Talvez você tenha que fazer isso manualmente no site. "
      ],
      "metadata": {
        "id": "ktjJAo4-o765"
      }
    },
    {
      "cell_type": "code",
      "source": [
        "%%bash\n",
        "cd pp/code/OpenMP\n",
        "\n",
        "git config --global user.email \"you@example.com\"\n",
        "git config --global user.name \"Your Name\"\n",
        "\n",
        "git add main.cpp\n",
        "git commit -m \"Versão paralela\"\n",
        "git push"
      ],
      "metadata": {
        "id": "NtH7MY98pIBK"
      },
      "execution_count": null,
      "outputs": []
    },
    {
      "cell_type": "markdown",
      "source": [
        "Discuta os resultados obtidos no arquivo README.md na raiz do seu repositório. \n",
        "\n",
        "Depois de concluido, envie o link do repositório para correção. \n",
        "\n",
        "**Bom trabalho a todos!** "
      ],
      "metadata": {
        "id": "pFSHd41ioFUn"
      }
    }
  ]
}
