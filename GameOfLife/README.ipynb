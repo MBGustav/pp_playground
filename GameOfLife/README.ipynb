{
 "cells": [
  {
   "cell_type": "markdown",
   "metadata": {},
   "source": [
    "# IMPLEMENTAÇÃO - Game of Life\n",
    "\n",
    "Para este projeto, temos a resolução do problema Game of Life voltado com offload em GPU. Os seus casos de uso estão voltados com a aplicação direta de paralelismo pela GPU.\n",
    "\n",
    "#"
   ]
  },
  {
   "cell_type": "markdown",
   "metadata": {},
   "source": [
    "## Explicação do Problema\n",
    "O jogo da Vida é um jogo autômato que  segue um padrao de vida que, por meio de regras simples, as alterações e mudanças em grupos de seres vivos. As regras são bem claras: \n",
    "- Qualquer célula viva com menos de dois vizinhos vivos morre de solidão.\n",
    "- Qualquer célula viva com mais de três vizinhos vivos morre de superpopulação.\n",
    "- Qualquer célula com exatamente três vizinhos vivos se torna uma célula viva.\n",
    "- Qualquer célula com dois vizinhos vivos continua no mesmo estado para a próxima geração.\n",
    "\n",
    "Por meio de um recorte inicial, temos um padrao do funcionamento do jogo:\n",
    "```cpp\n",
    "//Calculo Inicial\n",
    "if(n < 2 || n > 3)\n",
    "    new_univ[y][x] = 0;\n",
    "if(n == 3)\n",
    "    new_univ[y][x] = 1;\n",
    "if(n == 2)\n",
    "    new_univ[y][x] = univ[y][x];\n",
    "```\n",
    "Para tornar as coisas mais interessantes, tornamos as bordas do jogo infinita. Isso torna os calculos maiores e melhor sincronização de dados para serem acessados.\n"
   ]
  },
  {
   "cell_type": "markdown",
   "metadata": {},
   "source": [
    "## 1. Implementação Inicial com Uso de openMP\n",
    "\n",
    "Por conta do massivo paralelismo que temos para este problema, é possivel fazer o uso das instruções de openMP que permitem não só a natureza de paralelismo do problema, mas também a possibilidade de vetorização.\n",
    "\n",
    "```cpp\n",
    "#pragma omp parallel shared(univ, new_univ) private(x,y)\n",
    "for_yx {\n",
    "    u_char n = univ[(y-1+h)%h][(x-1+w)%w] + univ[(y-1+h)%h][(x  +w)%w] + univ[(y-1+h)%h][(x+1+w)%w] +\n",
    "               univ[(y  +h)%h][(x-1+w)%w] +                              univ[(y  +h)%h][(x+1+w)%w] +\n",
    "               univ[(y+1+h)%h][(x-1+w)%w] + univ[(y+1+h)%h][(x  +w)%w] + univ[(y+1+h)%h][(x+1+w)%w]; \n",
    "    if(n < 2 || n > 3)\n",
    "        new_univ[y][x] = 0;\n",
    "    if(n == 3)\n",
    "        new_univ[y][x] = 1;\n",
    "    if(n == 2)\n",
    "        new_univ[y][x] = univ[y][x];\n",
    "}\n",
    "```\n",
    "\n",
    "\n"
   ]
  },
  {
   "cell_type": "markdown",
   "metadata": {},
   "source": [
    "## 2. Implementação CUDA v0.0\n",
    "\n",
    "\n",
    "Essa implementação leva em conta a transição de dados de maneira síncrona para a GPU por meio do uso das diretivas `cudaMemcpy` e `cudaMalloc` que permite o uso da GPU NVIDIA.\n",
    "\n",
    "Além disso, para reduzir os cálculos realizados na GPU, temos uma modificação (em tempo de compilação) da função de cálculo de vizinhos, como pode ser visto abaixo:\n",
    "\n",
    "```cpp\n",
    "\n",
    "// Check if (Width x Height) is multiple at comp. time\n",
    "constexpr bool isPowerOfTwo(const int number){\n",
    "    return (number > 0) && ((number - 1) & number) == 0;\n",
    "}\n",
    "\n",
    "int matrix_idx(int x, int y)\n",
    "{\n",
    "    // Better for GPU and require less operations\n",
    "    if constexpr (isPowerOfTwo(Width) && isPowerOfTwo(Height))\n",
    "    return (x + Width) & (Width - 1) + (y + Height) & (Height - 1) * Width;\n",
    "    \n",
    "    // if is not power of two - general case\n",
    "    return (((x + Width) % Width) + ((y + Height) % Height) * Width);\n",
    "}\n",
    "```"
   ]
  },
  {
   "cell_type": "markdown",
   "metadata": {},
   "source": [
    "## 3. Implementação CUDA v1.0\n",
    "\n",
    "P/ esta versão, fizemos o teste do uso de memória Local. Na imagem abaixo, podemos interpretar como foi a metodologia usada para acesso a memoria partilhada por grid:\n",
    "\n",
    "Na primeira imagem, temos como é o dado localizado na memoria global.  Mas, como temos que levar em consideração as celulas vizinhas para calcular o ladrilho desejado. Com isso, temos a necessidade de transferir 2 linhas e colunas a mais para corretude do algoritmo. \n",
    "\n",
    "Memória Global:<br>\n",
    "<img src='assets/MemoryGlobal.png' height=300>\n",
    "\n",
    "Ideia de Memoria Local:<br>\n",
    "<img src='assets/SharedMemo_opt.png'  height=300>\n",
    "\n",
    "Memoria Local Implementada:<br>\n",
    "<img src='assets/MemoryShare.png'  height=300>\n",
    "\n",
    "A linha vermelha é demonstrada como borda(e as condições apresentadas para serem executadas) para envio dos dados para memória Local.\n",
    "\n",
    "```cpp\n",
    "//Invocação de shared Mem.\n",
    "__shared__ int SharedMemory[BLOCK+2][BLOCK+2]\n",
    "\n",
    "//Copia do acesso do ladrilho\n",
    "\n",
    "// Linha Lateral\n",
    "if (tx == 0) {\n",
    "    s_univ[ty + 1][0] = Universe[matrix_idx(gy + 1, gx)];\n",
    "    s_univ[ty + 2][0] = Universe[matrix_idx(gy + 2, gx)];\n",
    "\t}\n",
    "\n",
    "// Linha Superior\n",
    "if (ty == 0) {\n",
    "    s_univ[0][tx + 1] = Universe[matrix_idx(gy, gx + 1)];\n",
    "    s_univ[0][tx + 2] = Universe[matrix_idx(gy, gx + 2)];\n",
    "}\n",
    "\n",
    "// Topo superior\n",
    "if (ty == 0 && tx == 0) {\n",
    "    s_univ[0][0] = Universe[matrix_idx(gy    , gx    )];\n",
    "    s_univ[1][0] = Universe[matrix_idx(gy + 1, gx    )];\n",
    "    s_univ[0][1] = Universe[matrix_idx(gy    , gx + 1)];\n",
    "    s_univ[1][1] = Universe[matrix_idx(gy + 1, gx + 1)];\n",
    "}\n",
    "\n",
    "s_univ[ty + 2][tx + 2] = Universe[idx_matrix1D(gy + 2, gx + 2)];\n",
    "\n",
    "```\n"
   ]
  },
  {
   "cell_type": "markdown",
   "metadata": {},
   "source": [
    "## 4. Implementação CUDA v2.0\n",
    "\n",
    "Esse caso leva em conta se tivermos um Game Of Life suficientemente Grande (Universe Of Life?). \n",
    "\n",
    "Esse caso fazemos uso de streams que realizam de maneira assíncrona a emissão de kernels. Isso permite menor tempo na execução de Universos suficientemente grandes para execução. \n",
    "\n",
    "<img src='assets/stream.png' height=200>\n",
    "\n",
    "* OBS 1.0: O cudaMalloc tem uma representação suficientemente grande por ser a primeira chamada de GPU que leva a um overhead o inicio da programação.\n",
    "* OBS 2.0: Apesar de Generalizado, é necessario sincronizar cada stream ao final de cada Geração(possivel futura implementação)."
   ]
  },
  {
   "cell_type": "markdown",
   "metadata": {},
   "source": [
    "## Ref. Bibliograficas\n",
    "- [Wiki Game of  Life](https://conwaylife.com/wiki/)\n",
    "- [FPGA Implementation - hrvach](https://github.com/hrvach/Life_MiSTer)"
   ]
  }
 ],
 "metadata": {
  "language_info": {
   "name": "python"
  }
 },
 "nbformat": 4,
 "nbformat_minor": 2
}
