{
 "cells": [
  {
   "attachments": {},
   "cell_type": "markdown",
   "metadata": {},
   "source": [
    "# Escalonando para GPU Nvidia com C++ std. Library"
   ]
  },
  {
   "attachments": {},
   "cell_type": "markdown",
   "metadata": {},
   "source": [
    "# Introdução\n",
    "\n",
    "Como sabemos, temos instruções padroes de C++ que permitem informar que temos tipos diferentes de execução\n",
    "\n",
    "\n",
    "## Uso de Lambdas em C++\n",
    "\n",
    "Simplificação da criação de objetos, por exemplo: \n",
    "\n",
    "```cpp\n",
    "\n",
    "std::vector<double> v ={1,2,3,4};\n",
    "double s = 2.;\n",
    "\n",
    "auto f=[s,&v](int idx) {return v[idx]*s;};\n",
    "assert(f(1)==4);\n",
    "\n",
    "```\n",
    "\n",
    "Neste lambda, temos como parametros da função f (que está construida como um objeto) o indice, vetor e s, implicitamente. Essas variaveis chamamos de “lambda capture”.\n",
    "\n",
    "- [s] captura por “valor”, fazendo uma cópia\n",
    "- [&v] captura por “referencia”, armazena ponteiro.\n",
    "- [=, &] ou [=,]  ⇒ podemos escolher todos de uma vez.\n",
    "\n",
    "Lambda Captures permite o uso de atribuir variaveis que estao dentro do lambda\n",
    "\n",
    "```cpp\n",
    "auto f=[a = s, x = v.data()](int idx) {return x[idx]*a;};\n",
    "```\n",
    "\n",
    " Por baixo dos panos, o compilador faz a seguinte estrutura:\n",
    "\n",
    "```cpp\n",
    "struct __unnamed {\n",
    "\tdouble s;\n",
    "\tstd::vector<double> &v;\n",
    "\tdouble operator()(int idx){ return v[idx] *s;}\n",
    "}; \n",
    "__unnamed f{s,v}; \n",
    "assert(f(1) == 4);\n",
    "```"
   ]
  },
  {
   "attachments": {},
   "cell_type": "markdown",
   "metadata": {},
   "source": [
    "\n",
    "## Usando algoritmos de STL\n",
    "\n",
    "podemos fazer uso do algoritmo `transform` de c++. Esta ferramenta permite o uso de transformações nos elementos um a um, por exemplo:\n",
    "\n",
    "```cpp\n",
    "std::vector<double> v = {1,2,3,4}, w(4);\n",
    "std::transform(begin(v), end(v), begin(w), [](const double& e1){\n",
    "\treturn 2.* e1;\n",
    "});\n",
    "```\n",
    "Definimos o range de elementos(begin(v) até end(v)) e depois definimos o começo da saída (begin(w)). E mais, podemos atribuir diretivas sobre o método de execução destes elementos no método de transformação: \n",
    "\n",
    "```cpp\n",
    "std::vector<double> v = {1,2,3,4}, w(4);\n",
    "std::transform(std::execution::par, begin(v), end(v), begin(w), [](const double& e1){\n",
    "\treturn 2.* e1;\n",
    "});\n",
    "```\n"
   ]
  },
  {
   "attachments": {},
   "cell_type": "markdown",
   "metadata": {},
   "source": [
    "\n",
    "## Observações \n",
    "\n",
    "1. quando fazemos o uso de `std::execution::par`, devemos especificar a arquitetura que desejamos utilizar para execução por meio de flags no processo de construção do arquivo.\n",
    "\n",
    "|Plataforma|diretiva|\n",
    "|------|-------|\n",
    "|CPU|nvc++ -stdpar=multicore |\n",
    "|GPU|nvc++ -stdpar=gpu |\n",
    "\n",
    "2. Dados em stack atrapalham a execução do algoritmo em questão. Isso se deve pela questão da transferencia dos dados. Se enviamos via lambda um endereço `[&]`, isso é problematico para o envio de dados para GPU. Uma boa prática seria usar `[=]`\n",
    "```cpp\n",
    "//Mude disto\n",
    "void multiply_with(vector<double>&v, double a){\n",
    "\tstd::for_each(std::execution::par, \n",
    "\t\tbegin(v), end(v),\n",
    "\t\t[&](double& x) { x*=a; }\n",
    "\t);\n",
    "}\n",
    "\n",
    "//Para isso\n",
    "void multiply_with(vector<double>&v, double a){\n",
    "\tstd::for_each(std::execution::par, \n",
    "\t\tbegin(v), end(v),\n",
    "\t\t[=](double& x) { x*=a; }\n",
    "\t);\n",
    "}\n",
    "```\n",
    "## Política de Execução\n",
    "|Politica de Exec.|Onde ocorre a operação|Tipo de Operação|implementação assume que|\n",
    "|-|-|-|-|\n",
    "|`std::execution::seq`      |na thread chamada|Totalmente sequencial| Nada, execução sequencial|\n",
    "|`std::execution::unseq`    |na thread chamada|Sem sequencia|Operação Independente - SIMD|\n",
    "|`std::execution::par`      |multiplas threads|indeterminadamente sequencial entre cada thread|seguro paralelizar com multiplas threads|\n",
    "|`std::execution::par_unseq`|multiplas threads|Sem sequencia| par+ unseq |"
   ]
  },
  {
   "attachments": {},
   "cell_type": "markdown",
   "metadata": {},
   "source": [
    "### Exemplos de Aplicação"
   ]
  },
  {
   "cell_type": "code",
   "execution_count": 132,
   "metadata": {},
   "outputs": [
    {
     "name": "stdout",
     "output_type": "stream",
     "text": [
      "\u001b[0;31m#include <iostream> \u001b[0m\u001b[0;34m\u001b[0m\n",
      "\u001b[0;34m\u001b[0m\u001b[0;31m#include <execution> \u001b[0m\u001b[0;34m\u001b[0m\n",
      "\u001b[0;34m\u001b[0m\u001b[0;31m#include <vector>\u001b[0m\u001b[0;34m\u001b[0m\n",
      "\u001b[0;34m\u001b[0m\u001b[0;31m#include <algorithm>\u001b[0m\u001b[0;34m\u001b[0m\n",
      "\u001b[0;34m\u001b[0m\u001b[0;31m#include <chrono>\u001b[0m\u001b[0;34m\u001b[0m\n",
      "\u001b[0;34m\u001b[0m\u001b[0;31m#include <random>\u001b[0m\u001b[0;34m\u001b[0m\n",
      "\u001b[0;34m\u001b[0m\u001b[0;31m#include <execution>\u001b[0m\u001b[0;34m\u001b[0m\n",
      "\u001b[0;34m\u001b[0m\u001b[0;34m\u001b[0m\n",
      "\u001b[0;34m\u001b[0m\u001b[0mnamespace\u001b[0m \u001b[0mex\u001b[0m \u001b[0;34m=\u001b[0m \u001b[0mstd\u001b[0m\u001b[0;34m:\u001b[0m\u001b[0;34m:\u001b[0m\u001b[0mexecution\u001b[0m\u001b[0;34m;\u001b[0m\u001b[0;34m\u001b[0m\n",
      "\u001b[0;34m\u001b[0m\u001b[0;34m\u001b[0m\n",
      "\u001b[0;34m\u001b[0m\u001b[0;34m\u001b[0m\n",
      "\u001b[0;34m\u001b[0m\u001b[0mvoid\u001b[0m \u001b[0mfoo\u001b[0m\u001b[0;34m(\u001b[0m\u001b[0mstd\u001b[0m\u001b[0;34m:\u001b[0m\u001b[0;34m:\u001b[0m\u001b[0mvector\u001b[0m\u001b[0;34m<\u001b[0m\u001b[0mint\u001b[0m\u001b[0;34m>\u001b[0m\u001b[0;34m&\u001b[0m \u001b[0mv\u001b[0m\u001b[0;34m,\u001b[0m \u001b[0mauto\u001b[0m \u001b[0mpol\u001b[0m\u001b[0;34m)\u001b[0m \u001b[0;34m{\u001b[0m\u001b[0;34m\u001b[0m\n",
      "\u001b[0;34m\u001b[0m    \u001b[0mstd\u001b[0m\u001b[0;34m:\u001b[0m\u001b[0;34m:\u001b[0m\u001b[0mfor_each\u001b[0m\u001b[0;34m(\u001b[0m\u001b[0mpol\u001b[0m\u001b[0;34m,\u001b[0m \u001b[0mv\u001b[0m\u001b[0;34m.\u001b[0m\u001b[0mbegin\u001b[0m\u001b[0;34m(\u001b[0m\u001b[0;34m)\u001b[0m\u001b[0;34m,\u001b[0m \u001b[0mv\u001b[0m\u001b[0;34m.\u001b[0m\u001b[0mend\u001b[0m\u001b[0;34m(\u001b[0m\u001b[0;34m)\u001b[0m\u001b[0;34m,\u001b[0m \u001b[0;34m[\u001b[0m\u001b[0;34m=\u001b[0m\u001b[0;34m]\u001b[0m\u001b[0;34m(\u001b[0m\u001b[0mint\u001b[0m\u001b[0;34m&\u001b[0m \u001b[0mx\u001b[0m\u001b[0;34m)\u001b[0m \u001b[0;34m{\u001b[0m\u001b[0;34m\u001b[0m\n",
      "\u001b[0;34m\u001b[0m        \u001b[0mx\u001b[0m \u001b[0;34m*=\u001b[0m \u001b[0;36m2\u001b[0m\u001b[0;34m;\u001b[0m\u001b[0;34m\u001b[0m\n",
      "\u001b[0;34m\u001b[0m    \u001b[0;34m}\u001b[0m\u001b[0;34m)\u001b[0m\u001b[0;34m;\u001b[0m\u001b[0;34m\u001b[0m\n",
      "\u001b[0;34m\u001b[0m    \u001b[0;34m\u001b[0m\n",
      "\u001b[0;34m\u001b[0m\u001b[0;34m}\u001b[0m\u001b[0;34m\u001b[0m\n",
      "\u001b[0;34m\u001b[0m\u001b[0mvoid\u001b[0m \u001b[0musing_lambda\u001b[0m\u001b[0;34m(\u001b[0m\u001b[0mauto\u001b[0m \u001b[0mpol\u001b[0m\u001b[0;34m,\u001b[0m \u001b[0mstd\u001b[0m\u001b[0;34m:\u001b[0m\u001b[0;34m:\u001b[0m\u001b[0mvector\u001b[0m\u001b[0;34m<\u001b[0m\u001b[0mint\u001b[0m\u001b[0;34m>\u001b[0m \u001b[0;34m&\u001b[0m\u001b[0minput\u001b[0m\u001b[0;34m,\u001b[0m \u001b[0mstd\u001b[0m\u001b[0;34m:\u001b[0m\u001b[0;34m:\u001b[0m\u001b[0mvector\u001b[0m\u001b[0;34m<\u001b[0m\u001b[0mint\u001b[0m\u001b[0;34m>\u001b[0m \u001b[0mx\u001b[0m\u001b[0;34m,\u001b[0m \u001b[0mint\u001b[0m \u001b[0ma\u001b[0m\u001b[0;34m)\u001b[0m\u001b[0;34m{\u001b[0m\u001b[0;34m\u001b[0m\n",
      "\u001b[0;34m\u001b[0m    \u001b[0;34m//\u001b[0m \u001b[0mDeclarando\u001b[0m \u001b[0mfuncao\u001b[0m \u001b[0;32mlambda\u001b[0m\u001b[0;34m\u001b[0m\n",
      "\u001b[0;34m\u001b[0m    \u001b[0mauto\u001b[0m \u001b[0mf\u001b[0m \u001b[0;34m=\u001b[0m \u001b[0;34m[\u001b[0m\u001b[0mx\u001b[0m \u001b[0;34m=\u001b[0m \u001b[0mx\u001b[0m\u001b[0;34m.\u001b[0m\u001b[0mdata\u001b[0m\u001b[0;34m(\u001b[0m\u001b[0;34m)\u001b[0m\u001b[0;34m,\u001b[0m \u001b[0msize\u001b[0m \u001b[0;34m=\u001b[0m \u001b[0mx\u001b[0m\u001b[0;34m.\u001b[0m\u001b[0msize\u001b[0m\u001b[0;34m(\u001b[0m\u001b[0;34m)\u001b[0m\u001b[0;34m]\u001b[0m\u001b[0;34m(\u001b[0m\u001b[0mint\u001b[0m \u001b[0mi\u001b[0m\u001b[0;34m)\u001b[0m \u001b[0;34m{\u001b[0m\u001b[0;34m\u001b[0m\n",
      "\u001b[0;34m\u001b[0m        \u001b[0mint\u001b[0m \u001b[0macc\u001b[0m \u001b[0;34m=\u001b[0m \u001b[0;36m0\u001b[0m\u001b[0;34m;\u001b[0m\u001b[0;34m\u001b[0m\n",
      "\u001b[0;34m\u001b[0m        \u001b[0;32mfor\u001b[0m \u001b[0;34m(\u001b[0m\u001b[0mint\u001b[0m \u001b[0mj\u001b[0m \u001b[0;34m=\u001b[0m \u001b[0;36m0\u001b[0m\u001b[0;34m;\u001b[0m \u001b[0mj\u001b[0m \u001b[0;34m<\u001b[0m \u001b[0msize\u001b[0m\u001b[0;34m;\u001b[0m \u001b[0mj\u001b[0m\u001b[0;34m+\u001b[0m\u001b[0;34m+\u001b[0m\u001b[0;34m)\u001b[0m \u001b[0;34m{\u001b[0m\u001b[0;34m\u001b[0m\n",
      "\u001b[0;34m\u001b[0m            \u001b[0macc\u001b[0m \u001b[0;34m+=\u001b[0m \u001b[0mj\u001b[0m \u001b[0;34m*\u001b[0m \u001b[0mx\u001b[0m\u001b[0;34m[\u001b[0m\u001b[0mj\u001b[0m\u001b[0;34m]\u001b[0m\u001b[0;34m;\u001b[0m\u001b[0;34m\u001b[0m\n",
      "\u001b[0;34m\u001b[0m        \u001b[0;34m}\u001b[0m\u001b[0;34m\u001b[0m\n",
      "\u001b[0;34m\u001b[0m        \u001b[0;32mreturn\u001b[0m \u001b[0macc\u001b[0m \u001b[0;34m*\u001b[0m \u001b[0mi\u001b[0m\u001b[0;34m;\u001b[0m\u001b[0;34m\u001b[0m\n",
      "\u001b[0;34m\u001b[0m    \u001b[0;34m}\u001b[0m\u001b[0;34m;\u001b[0m\u001b[0;34m\u001b[0m\n",
      "\u001b[0;34m\u001b[0m\u001b[0;34m\u001b[0m\n",
      "\u001b[0;34m\u001b[0m\u001b[0;34m\u001b[0m\n",
      "\u001b[0;34m\u001b[0m    \u001b[0mstd\u001b[0m\u001b[0;34m:\u001b[0m\u001b[0;34m:\u001b[0m\u001b[0mfor_each\u001b[0m\u001b[0;34m(\u001b[0m\u001b[0mpol\u001b[0m\u001b[0;34m,\u001b[0m          \u001b[0;34m//\u001b[0m\u001b[0mtipo\u001b[0m \u001b[0mde\u001b[0m \u001b[0mexecução\u001b[0m\u001b[0;34m\u001b[0m\n",
      "\u001b[0;34m\u001b[0m    \u001b[0mbegin\u001b[0m\u001b[0;34m(\u001b[0m\u001b[0minput\u001b[0m\u001b[0;34m)\u001b[0m\u001b[0;34m,\u001b[0m \u001b[0mend\u001b[0m\u001b[0;34m(\u001b[0m\u001b[0minput\u001b[0m\u001b[0;34m)\u001b[0m\u001b[0;34m,\u001b[0m   \u001b[0;34m//\u001b[0m\u001b[0minicio\u001b[0m\u001b[0;34m-\u001b[0m\u001b[0mentrada\u001b[0m\u001b[0;34m,\u001b[0m \u001b[0mfinal\u001b[0m\u001b[0;34m-\u001b[0m\u001b[0mentrada\u001b[0m \u001b[0;34m\u001b[0m\n",
      "\u001b[0;34m\u001b[0m    \u001b[0;34m[\u001b[0m\u001b[0;34m&\u001b[0m\u001b[0;34m]\u001b[0m \u001b[0;34m(\u001b[0m\u001b[0mint\u001b[0m \u001b[0;34m&\u001b[0m\u001b[0mel\u001b[0m\u001b[0;34m)\u001b[0m\u001b[0;34m{\u001b[0m              \u001b[0;34m//\u001b[0m\u001b[0mvalor\u001b[0m\u001b[0;34m,\u001b[0m \u001b[0melemento\u001b[0m \u001b[0mde\u001b[0m \u001b[0mentrada\u001b[0m\u001b[0;34m-\u001b[0m\u001b[0msaida\u001b[0m\u001b[0;34m\u001b[0m\n",
      "\u001b[0;34m\u001b[0m        \u001b[0mel\u001b[0m \u001b[0;34m=\u001b[0m \u001b[0mf\u001b[0m\u001b[0;34m(\u001b[0m\u001b[0mel\u001b[0m\u001b[0;34m)\u001b[0m\u001b[0;34m;\u001b[0m             \u001b[0;34m//\u001b[0m\u001b[0mfuncao\u001b[0m\u001b[0;34m-\u001b[0m\u001b[0mlamda\u001b[0m\u001b[0;34m\u001b[0m\n",
      "\u001b[0;34m\u001b[0m    \u001b[0;34m}\u001b[0m\u001b[0;34m)\u001b[0m\u001b[0;34m;\u001b[0m    \u001b[0;34m\u001b[0m\n",
      "\u001b[0;34m\u001b[0m\u001b[0;34m}\u001b[0m\u001b[0;34m\u001b[0m\n",
      "\u001b[0;34m\u001b[0m\u001b[0;34m\u001b[0m\n",
      "\u001b[0;34m\u001b[0m\u001b[0menum\u001b[0m \u001b[0mexec\u001b[0m \u001b[0;34m{\u001b[0m\u001b[0mseq\u001b[0m\u001b[0;34m,\u001b[0m \u001b[0mpar\u001b[0m\u001b[0;34m,\u001b[0m \u001b[0mpar_unseq\u001b[0m\u001b[0;34m}\u001b[0m\u001b[0;34m;\u001b[0m\u001b[0;34m\u001b[0m\n",
      "\u001b[0;34m\u001b[0m\u001b[0;34m\u001b[0m\n",
      "\u001b[0;34m\u001b[0m\u001b[0mint\u001b[0m \u001b[0mmain\u001b[0m\u001b[0;34m(\u001b[0m\u001b[0mint\u001b[0m \u001b[0margc\u001b[0m\u001b[0;34m,\u001b[0m \u001b[0mchar\u001b[0m \u001b[0;34m**\u001b[0m\u001b[0margv\u001b[0m\u001b[0;34m)\u001b[0m\u001b[0;34m{\u001b[0m\u001b[0;34m\u001b[0m\n",
      "\u001b[0;34m\u001b[0m    \u001b[0;32mif\u001b[0m\u001b[0;34m(\u001b[0m\u001b[0margc\u001b[0m \u001b[0;34m>\u001b[0m \u001b[0;36m3\u001b[0m \u001b[0;34m|\u001b[0m\u001b[0;34m|\u001b[0m \u001b[0margc\u001b[0m \u001b[0;34m==\u001b[0m\u001b[0;36m1\u001b[0m\u001b[0;34m)\u001b[0m\u001b[0;34m{\u001b[0m\u001b[0;34m\u001b[0m\n",
      "\u001b[0;34m\u001b[0m        \u001b[0mstd\u001b[0m\u001b[0;34m:\u001b[0m\u001b[0;34m:\u001b[0m\u001b[0mcout\u001b[0m \u001b[0;34m<<\u001b[0m \u001b[0;34m\"Invalid input\\n\"\u001b[0m\u001b[0;34m;\u001b[0m\u001b[0;34m\u001b[0m\n",
      "\u001b[0;34m\u001b[0m        \u001b[0;32mreturn\u001b[0m \u001b[0mEXIT_FAILURE\u001b[0m\u001b[0;34m;\u001b[0m\u001b[0;34m\u001b[0m\n",
      "\u001b[0;34m\u001b[0m    \u001b[0;34m}\u001b[0m\u001b[0;34m\u001b[0m\n",
      "\u001b[0;34m\u001b[0m    \u001b[0;34m\u001b[0m\n",
      "\u001b[0;34m\u001b[0m    \u001b[0mconst\u001b[0m \u001b[0mint\u001b[0m \u001b[0msize\u001b[0m \u001b[0;34m=\u001b[0m \u001b[0;36m1000000\u001b[0m\u001b[0;34m;\u001b[0m\u001b[0;34m\u001b[0m\n",
      "\u001b[0;34m\u001b[0m    \u001b[0mstd\u001b[0m\u001b[0;34m:\u001b[0m\u001b[0;34m:\u001b[0m\u001b[0mvector\u001b[0m\u001b[0;34m<\u001b[0m\u001b[0mint\u001b[0m\u001b[0;34m>\u001b[0m \u001b[0mv\u001b[0m\u001b[0;34m(\u001b[0m\u001b[0msize\u001b[0m\u001b[0;34m)\u001b[0m\u001b[0;34m;\u001b[0m  \u001b[0;34m\u001b[0m\n",
      "\u001b[0;34m\u001b[0m    \u001b[0msrand\u001b[0m\u001b[0;34m(\u001b[0m\u001b[0;36m777\u001b[0m\u001b[0;34m)\u001b[0m\u001b[0;34m;\u001b[0m\u001b[0;34m\u001b[0m\n",
      "\u001b[0;34m\u001b[0m    \u001b[0;34m\u001b[0m\n",
      "\u001b[0;34m\u001b[0m    \u001b[0mint\u001b[0m \u001b[0mtp\u001b[0m \u001b[0;34m=\u001b[0m \u001b[0matoi\u001b[0m\u001b[0;34m(\u001b[0m\u001b[0margv\u001b[0m\u001b[0;34m[\u001b[0m\u001b[0;36m1\u001b[0m\u001b[0;34m]\u001b[0m\u001b[0;34m)\u001b[0m\u001b[0;34m;\u001b[0m\u001b[0;34m\u001b[0m\n",
      "\u001b[0;34m\u001b[0m    \u001b[0;32mfor\u001b[0m\u001b[0;34m(\u001b[0m\u001b[0mint\u001b[0m \u001b[0mi\u001b[0m\u001b[0;34m=\u001b[0m\u001b[0;36m0\u001b[0m\u001b[0;34m;\u001b[0m \u001b[0mi\u001b[0m \u001b[0;34m<\u001b[0m \u001b[0msize\u001b[0m\u001b[0;34m;\u001b[0m \u001b[0mi\u001b[0m\u001b[0;34m+\u001b[0m\u001b[0;34m+\u001b[0m\u001b[0;34m)\u001b[0m\u001b[0;34m\u001b[0m\n",
      "\u001b[0;34m\u001b[0m        \u001b[0mv\u001b[0m\u001b[0;34m[\u001b[0m\u001b[0mi\u001b[0m\u001b[0;34m]\u001b[0m \u001b[0;34m=\u001b[0m \u001b[0mrand\u001b[0m\u001b[0;34m(\u001b[0m\u001b[0;34m)\u001b[0m \u001b[0;34m%\u001b[0m\u001b[0msize\u001b[0m\u001b[0;34m;\u001b[0m\u001b[0;34m\u001b[0m\n",
      "\u001b[0;34m\u001b[0m    \u001b[0;34m\u001b[0m\n",
      "\u001b[0;34m\u001b[0m    \u001b[0mstd\u001b[0m\u001b[0;34m:\u001b[0m\u001b[0;34m:\u001b[0m\u001b[0mvector\u001b[0m\u001b[0;34m<\u001b[0m\u001b[0mint\u001b[0m\u001b[0;34m>\u001b[0m \u001b[0mx\u001b[0m \u001b[0;34m=\u001b[0m \u001b[0;34m{\u001b[0m\u001b[0;36m1\u001b[0m\u001b[0;34m,\u001b[0m\u001b[0;36m2\u001b[0m\u001b[0;34m,\u001b[0m\u001b[0;36m3\u001b[0m\u001b[0;34m}\u001b[0m\u001b[0;34m;\u001b[0m\u001b[0;34m\u001b[0m\n",
      "\u001b[0;34m\u001b[0m    \u001b[0;34m\u001b[0m\n",
      "\u001b[0;34m\u001b[0m    \u001b[0mstd\u001b[0m\u001b[0;34m:\u001b[0m\u001b[0;34m:\u001b[0m\u001b[0mcout\u001b[0m \u001b[0;34m<<\u001b[0m \u001b[0;34m\"Execucao do tipo: \"\u001b[0m\u001b[0;34m;\u001b[0m\u001b[0;34m\u001b[0m\n",
      "\u001b[0;34m\u001b[0m    \u001b[0mswitch\u001b[0m \u001b[0;34m(\u001b[0m\u001b[0mtp\u001b[0m\u001b[0;34m)\u001b[0m\u001b[0;34m{\u001b[0m\u001b[0;34m\u001b[0m\n",
      "\u001b[0;34m\u001b[0m        \u001b[0mcase\u001b[0m \u001b[0mpar\u001b[0m\u001b[0;34m:\u001b[0m \u001b[0;34m{\u001b[0m\u001b[0;34m\u001b[0m\n",
      "\u001b[0;34m\u001b[0m            \u001b[0mstd\u001b[0m\u001b[0;34m:\u001b[0m\u001b[0;34m:\u001b[0m\u001b[0mcout\u001b[0m \u001b[0;34m<<\u001b[0m \u001b[0;34m\"par\\n\"\u001b[0m\u001b[0;34m;\u001b[0m\u001b[0;34m\u001b[0m\n",
      "\u001b[0;34m\u001b[0m            \u001b[0musing_lambda\u001b[0m\u001b[0;34m(\u001b[0m\u001b[0mex\u001b[0m\u001b[0;34m:\u001b[0m\u001b[0;34m:\u001b[0m\u001b[0mpar\u001b[0m\u001b[0;34m,\u001b[0m \u001b[0mv\u001b[0m\u001b[0;34m,\u001b[0m \u001b[0mx\u001b[0m\u001b[0;34m,\u001b[0m \u001b[0;36m2\u001b[0m\u001b[0;34m)\u001b[0m\u001b[0;34m;\u001b[0m\u001b[0;34m\u001b[0m\n",
      "\u001b[0;34m\u001b[0m            \u001b[0;32mbreak\u001b[0m\u001b[0;34m;\u001b[0m\u001b[0;34m\u001b[0m\n",
      "\u001b[0;34m\u001b[0m            \u001b[0;34m}\u001b[0m\u001b[0;34m\u001b[0m\n",
      "\u001b[0;34m\u001b[0m        \u001b[0mcase\u001b[0m \u001b[0mpar_unseq\u001b[0m\u001b[0;34m:\u001b[0m \u001b[0;34m{\u001b[0m\u001b[0;34m\u001b[0m\n",
      "\u001b[0;34m\u001b[0m            \u001b[0mstd\u001b[0m\u001b[0;34m:\u001b[0m\u001b[0;34m:\u001b[0m\u001b[0mcout\u001b[0m \u001b[0;34m<<\u001b[0m \u001b[0;34m\"par_unseq\\n\"\u001b[0m\u001b[0;34m;\u001b[0m\u001b[0;34m\u001b[0m\n",
      "\u001b[0;34m\u001b[0m            \u001b[0musing_lambda\u001b[0m\u001b[0;34m(\u001b[0m\u001b[0mex\u001b[0m\u001b[0;34m:\u001b[0m\u001b[0;34m:\u001b[0m\u001b[0mpar_unseq\u001b[0m\u001b[0;34m,\u001b[0m \u001b[0mv\u001b[0m\u001b[0;34m,\u001b[0m \u001b[0mx\u001b[0m\u001b[0;34m,\u001b[0m \u001b[0;36m2\u001b[0m\u001b[0;34m)\u001b[0m\u001b[0;34m;\u001b[0m\u001b[0;34m\u001b[0m\n",
      "\u001b[0;34m\u001b[0m            \u001b[0;32mbreak\u001b[0m\u001b[0;34m;\u001b[0m\u001b[0;34m\u001b[0m\n",
      "\u001b[0;34m\u001b[0m            \u001b[0;34m}\u001b[0m\u001b[0;34m\u001b[0m\n",
      "\u001b[0;34m\u001b[0m        \u001b[0mdefault\u001b[0m\u001b[0;34m:\u001b[0m\u001b[0;34m{\u001b[0m\u001b[0;34m\u001b[0m\n",
      "\u001b[0;34m\u001b[0m            \u001b[0mstd\u001b[0m\u001b[0;34m:\u001b[0m\u001b[0;34m:\u001b[0m\u001b[0mcout\u001b[0m \u001b[0;34m<<\u001b[0m \u001b[0;34m\"seq\\n\"\u001b[0m\u001b[0;34m;\u001b[0m\u001b[0;34m\u001b[0m\n",
      "\u001b[0;34m\u001b[0m            \u001b[0musing_lambda\u001b[0m\u001b[0;34m(\u001b[0m\u001b[0mex\u001b[0m\u001b[0;34m:\u001b[0m\u001b[0;34m:\u001b[0m\u001b[0mseq\u001b[0m\u001b[0;34m,\u001b[0m \u001b[0mv\u001b[0m\u001b[0;34m,\u001b[0m \u001b[0mx\u001b[0m\u001b[0;34m,\u001b[0m \u001b[0;36m2\u001b[0m\u001b[0;34m)\u001b[0m\u001b[0;34m;\u001b[0m\u001b[0;34m\u001b[0m\n",
      "\u001b[0;34m\u001b[0m            \u001b[0;32mbreak\u001b[0m\u001b[0;34m;\u001b[0m\u001b[0;34m\u001b[0m\n",
      "\u001b[0;34m\u001b[0m            \u001b[0;34m}\u001b[0m\u001b[0;34m\u001b[0m\n",
      "\u001b[0;34m\u001b[0m    \u001b[0;34m}\u001b[0m\u001b[0;34m\u001b[0m\n",
      "\u001b[0;34m\u001b[0m\u001b[0;34m\u001b[0m\n",
      "\u001b[0;34m\u001b[0m\u001b[0;34m\u001b[0m\n",
      "\u001b[0;34m\u001b[0m    \u001b[0;32mreturn\u001b[0m \u001b[0;36m0\u001b[0m\u001b[0;34m;\u001b[0m\u001b[0;34m\u001b[0m\n",
      "\u001b[0;34m\u001b[0m\u001b[0;34m}\u001b[0m\u001b[0;34m\u001b[0m\u001b[0;34m\u001b[0m\u001b[0m\n"
     ]
    }
   ],
   "source": [
    "%pycat std_lib/par_01.cpp"
   ]
  },
  {
   "cell_type": "code",
   "execution_count": 152,
   "metadata": {},
   "outputs": [
    {
     "name": "stdout",
     "output_type": "stream",
     "text": [
      "Execucao do tipo: seq\n",
      "\n",
      "real\t0m2,764s\n",
      "user\t0m2,675s\n",
      "sys\t0m0,089s\n",
      "Execucao do tipo: par\n",
      "\n",
      "real\t0m2,000s\n",
      "user\t0m4,329s\n",
      "sys\t0m0,093s\n",
      "Execucao do tipo: par_unseq\n",
      "\n",
      "real\t0m1,956s\n",
      "user\t0m3,495s\n",
      "sys\t0m0,105s\n"
     ]
    }
   ],
   "source": [
    "# !nvcc -std=c++20 -O4 -fast -tp=native -Mllvm-fast -DNDEBUG -Mllvm-fast -o std_lib/par_01 std_lib/par_01.cpp\n",
    "!g++ -std=c++20 -o std_lib/par_01 std_lib/par_01.cpp -ltbb\n",
    "!time ./std_lib/par_01 0 100000000\n",
    "!time ./std_lib/par_01 1 100000000\n",
    "!time ./std_lib/par_01 2 100000000"
   ]
  },
  {
   "attachments": {},
   "cell_type": "markdown",
   "metadata": {},
   "source": [
    "\n",
    "#### _Observações:_\n",
    "\n",
    "a diretiva de execução `par` e `par_unseq` têm comportamento parecido, mas é necessário atenção com relação a condições de corrida entre threads. Vejamos um exemplo\n"
   ]
  },
  {
   "cell_type": "code",
   "execution_count": 153,
   "metadata": {},
   "outputs": [
    {
     "name": "stdout",
     "output_type": "stream",
     "text": [
      "\u001b[0;31m#include <iostream> \u001b[0m\u001b[0;34m\u001b[0m\n",
      "\u001b[0;34m\u001b[0m\u001b[0;31m#include <execution> \u001b[0m\u001b[0;34m\u001b[0m\n",
      "\u001b[0;34m\u001b[0m\u001b[0;31m#include <vector>\u001b[0m\u001b[0;34m\u001b[0m\n",
      "\u001b[0;34m\u001b[0m\u001b[0;31m#include <algorithm>\u001b[0m\u001b[0;34m\u001b[0m\n",
      "\u001b[0;34m\u001b[0m\u001b[0;31m#include <chrono>\u001b[0m\u001b[0;34m\u001b[0m\n",
      "\u001b[0;34m\u001b[0m\u001b[0;31m#include <random>\u001b[0m\u001b[0;34m\u001b[0m\n",
      "\u001b[0;34m\u001b[0m\u001b[0mnamespace\u001b[0m \u001b[0mexecution\u001b[0m \u001b[0;34m=\u001b[0m \u001b[0mstd\u001b[0m\u001b[0;34m:\u001b[0m\u001b[0;34m:\u001b[0m\u001b[0mexecution\u001b[0m\u001b[0;34m;\u001b[0m \u001b[0;34m\u001b[0m\n",
      "\u001b[0;34m\u001b[0m\u001b[0;34m\u001b[0m\n",
      "\u001b[0;34m\u001b[0m\u001b[0;34m\u001b[0m\n",
      "\u001b[0;34m\u001b[0m\u001b[0mint\u001b[0m \u001b[0mdata_race\u001b[0m\u001b[0;34m(\u001b[0m\u001b[0mauto\u001b[0m \u001b[0mpolicy\u001b[0m\u001b[0;34m,\u001b[0m \u001b[0mstd\u001b[0m\u001b[0;34m:\u001b[0m\u001b[0;34m:\u001b[0m\u001b[0mvector\u001b[0m\u001b[0;34m<\u001b[0m\u001b[0mint\u001b[0m\u001b[0;34m>\u001b[0m \u001b[0mv\u001b[0m\u001b[0;34m)\u001b[0m\u001b[0;34m{\u001b[0m\u001b[0;34m\u001b[0m\n",
      "\u001b[0;34m\u001b[0m\u001b[0;34m\u001b[0m\n",
      "\u001b[0;34m\u001b[0m    \u001b[0mint\u001b[0m \u001b[0msum\u001b[0m \u001b[0;34m=\u001b[0m \u001b[0;36m0.\u001b[0m\u001b[0;34m;\u001b[0m\u001b[0;34m\u001b[0m\n",
      "\u001b[0;34m\u001b[0m    \u001b[0mstd\u001b[0m\u001b[0;34m:\u001b[0m\u001b[0;34m:\u001b[0m\u001b[0mfor_each\u001b[0m\u001b[0;34m(\u001b[0m\u001b[0mpolicy\u001b[0m\u001b[0;34m,\u001b[0m \u001b[0mv\u001b[0m\u001b[0;34m.\u001b[0m\u001b[0mbegin\u001b[0m\u001b[0;34m(\u001b[0m\u001b[0;34m)\u001b[0m\u001b[0;34m,\u001b[0m \u001b[0mv\u001b[0m\u001b[0;34m.\u001b[0m\u001b[0mend\u001b[0m\u001b[0;34m(\u001b[0m\u001b[0;34m)\u001b[0m\u001b[0;34m,\u001b[0m \u001b[0;34m[\u001b[0m\u001b[0;34m&\u001b[0m\u001b[0;34m]\u001b[0m\u001b[0;34m(\u001b[0m\u001b[0mint\u001b[0m \u001b[0mi\u001b[0m\u001b[0;34m)\u001b[0m\u001b[0;34m{\u001b[0m\u001b[0;34m\u001b[0m\n",
      "\u001b[0;34m\u001b[0m        \u001b[0msum\u001b[0m\u001b[0;34m+=\u001b[0m \u001b[0mi\u001b[0m\u001b[0;34m;\u001b[0m\u001b[0;34m\u001b[0m\n",
      "\u001b[0;34m\u001b[0m    \u001b[0;34m}\u001b[0m\u001b[0;34m)\u001b[0m\u001b[0;34m;\u001b[0m\u001b[0;34m\u001b[0m\n",
      "\u001b[0;34m\u001b[0m    \u001b[0;34m//\u001b[0m\u001b[0;31m# std::sort(policy, v.begin(), v.end());\u001b[0m\u001b[0;34m\u001b[0m\n",
      "\u001b[0;34m\u001b[0m    \u001b[0;32mreturn\u001b[0m \u001b[0msum\u001b[0m\u001b[0;34m;\u001b[0m    \u001b[0;34m\u001b[0m\n",
      "\u001b[0;34m\u001b[0m\u001b[0;34m}\u001b[0m\u001b[0;34m\u001b[0m\n",
      "\u001b[0;34m\u001b[0m\u001b[0;34m\u001b[0m\n",
      "\u001b[0;34m\u001b[0m\u001b[0;34m\u001b[0m\n",
      "\u001b[0;34m\u001b[0m\u001b[0mint\u001b[0m \u001b[0mmain\u001b[0m\u001b[0;34m(\u001b[0m\u001b[0;34m)\u001b[0m\u001b[0;34m{\u001b[0m\u001b[0;34m\u001b[0m\n",
      "\u001b[0;34m\u001b[0m    \u001b[0mint\u001b[0m \u001b[0msize\u001b[0m \u001b[0;34m=\u001b[0m \u001b[0;36m10000\u001b[0m\u001b[0;34m;\u001b[0m\u001b[0;34m\u001b[0m\n",
      "\u001b[0;34m\u001b[0m    \u001b[0mstd\u001b[0m\u001b[0;34m:\u001b[0m\u001b[0;34m:\u001b[0m\u001b[0mvector\u001b[0m\u001b[0;34m<\u001b[0m\u001b[0mint\u001b[0m\u001b[0;34m>\u001b[0m \u001b[0mv\u001b[0m\u001b[0;34m(\u001b[0m\u001b[0msize\u001b[0m\u001b[0;34m)\u001b[0m\u001b[0;34m;\u001b[0m  \u001b[0;34m\u001b[0m\n",
      "\u001b[0;34m\u001b[0m    \u001b[0;32mfor\u001b[0m\u001b[0;34m(\u001b[0m\u001b[0mint\u001b[0m \u001b[0mi\u001b[0m\u001b[0;34m=\u001b[0m\u001b[0;36m0\u001b[0m\u001b[0;34m;\u001b[0m \u001b[0mi\u001b[0m \u001b[0;34m<\u001b[0m \u001b[0msize\u001b[0m\u001b[0;34m;\u001b[0m \u001b[0mi\u001b[0m\u001b[0;34m+\u001b[0m\u001b[0;34m+\u001b[0m\u001b[0;34m)\u001b[0m\u001b[0;34m{\u001b[0m\u001b[0;34m\u001b[0m\n",
      "\u001b[0;34m\u001b[0m        \u001b[0mv\u001b[0m\u001b[0;34m[\u001b[0m\u001b[0mi\u001b[0m\u001b[0;34m]\u001b[0m \u001b[0;34m=\u001b[0m \u001b[0mrand\u001b[0m\u001b[0;34m(\u001b[0m\u001b[0;34m)\u001b[0m \u001b[0;34m%\u001b[0m\u001b[0;36m1000\u001b[0m\u001b[0;34m;\u001b[0m\u001b[0;34m\u001b[0m\n",
      "\u001b[0;34m\u001b[0m    \u001b[0;34m}\u001b[0m\u001b[0;34m\u001b[0m\n",
      "\u001b[0;34m\u001b[0m    \u001b[0;34m\u001b[0m\n",
      "\u001b[0;34m\u001b[0m    \u001b[0mstd\u001b[0m\u001b[0;34m:\u001b[0m\u001b[0;34m:\u001b[0m\u001b[0mcout\u001b[0m \u001b[0;34m<<\u001b[0m\u001b[0;34m\"seq:      \"\u001b[0m\u001b[0;34m<<\u001b[0m \u001b[0mdata_race\u001b[0m\u001b[0;34m(\u001b[0m\u001b[0mexecution\u001b[0m\u001b[0;34m:\u001b[0m\u001b[0;34m:\u001b[0m\u001b[0mseq\u001b[0m\u001b[0;34m,\u001b[0m \u001b[0mv\u001b[0m\u001b[0;34m)\u001b[0m\u001b[0;34m<<\u001b[0m \u001b[0mstd\u001b[0m\u001b[0;34m:\u001b[0m\u001b[0;34m:\u001b[0m\u001b[0mendl\u001b[0m\u001b[0;34m;\u001b[0m\u001b[0;34m\u001b[0m\n",
      "\u001b[0;34m\u001b[0m    \u001b[0mstd\u001b[0m\u001b[0;34m:\u001b[0m\u001b[0;34m:\u001b[0m\u001b[0mcout\u001b[0m \u001b[0;34m<<\u001b[0m\u001b[0;34m\"unseq:    \"\u001b[0m\u001b[0;34m<<\u001b[0m \u001b[0mdata_race\u001b[0m\u001b[0;34m(\u001b[0m\u001b[0mexecution\u001b[0m\u001b[0;34m:\u001b[0m\u001b[0;34m:\u001b[0m\u001b[0munseq\u001b[0m\u001b[0;34m,\u001b[0m \u001b[0mv\u001b[0m\u001b[0;34m)\u001b[0m\u001b[0;34m<<\u001b[0m \u001b[0mstd\u001b[0m\u001b[0;34m:\u001b[0m\u001b[0;34m:\u001b[0m\u001b[0mendl\u001b[0m\u001b[0;34m;\u001b[0m\u001b[0;34m\u001b[0m\n",
      "\u001b[0;34m\u001b[0m    \u001b[0mstd\u001b[0m\u001b[0;34m:\u001b[0m\u001b[0;34m:\u001b[0m\u001b[0mcout\u001b[0m \u001b[0;34m<<\u001b[0m\u001b[0;34m\"par_unseq:\"\u001b[0m\u001b[0;34m<<\u001b[0m \u001b[0mdata_race\u001b[0m\u001b[0;34m(\u001b[0m\u001b[0mexecution\u001b[0m\u001b[0;34m:\u001b[0m\u001b[0;34m:\u001b[0m\u001b[0mpar_unseq\u001b[0m\u001b[0;34m,\u001b[0m \u001b[0mv\u001b[0m\u001b[0;34m)\u001b[0m\u001b[0;34m<<\u001b[0m \u001b[0mstd\u001b[0m\u001b[0;34m:\u001b[0m\u001b[0;34m:\u001b[0m\u001b[0mendl\u001b[0m\u001b[0;34m;\u001b[0m\u001b[0;34m\u001b[0m\n",
      "\u001b[0;34m\u001b[0m    \u001b[0mstd\u001b[0m\u001b[0;34m:\u001b[0m\u001b[0;34m:\u001b[0m\u001b[0mcout\u001b[0m \u001b[0;34m<<\u001b[0m\u001b[0;34m\"par:      \"\u001b[0m\u001b[0;34m<<\u001b[0m \u001b[0mdata_race\u001b[0m\u001b[0;34m(\u001b[0m\u001b[0mexecution\u001b[0m\u001b[0;34m:\u001b[0m\u001b[0;34m:\u001b[0m\u001b[0mpar\u001b[0m\u001b[0;34m,\u001b[0m \u001b[0mv\u001b[0m\u001b[0;34m)\u001b[0m\u001b[0;34m<<\u001b[0m \u001b[0mstd\u001b[0m\u001b[0;34m:\u001b[0m\u001b[0;34m:\u001b[0m\u001b[0mendl\u001b[0m\u001b[0;34m;\u001b[0m\u001b[0;34m\u001b[0m\n",
      "\u001b[0;34m\u001b[0m    \u001b[0;34m\u001b[0m\n",
      "\u001b[0;34m\u001b[0m    \u001b[0;34m\u001b[0m\n",
      "\u001b[0;34m\u001b[0m\u001b[0;34m\u001b[0m\n",
      "\u001b[0;34m\u001b[0m\u001b[0;34m}\u001b[0m\u001b[0;34m\u001b[0m\u001b[0;34m\u001b[0m\u001b[0m\n"
     ]
    }
   ],
   "source": [
    "%pycat std_lib/par_02.cpp\n"
   ]
  },
  {
   "cell_type": "code",
   "execution_count": 66,
   "metadata": {},
   "outputs": [
    {
     "name": "stdout",
     "output_type": "stream",
     "text": [
      "seq:      4969211\n",
      "unseq:    4969211\n",
      "par_unseq:4738498\n",
      "par:      1203624\n"
     ]
    }
   ],
   "source": [
    "!g++ -std=c++23 -o std_lib/par_01 std_lib/par_01.cpp -ltbb && ./std_lib/par_01"
   ]
  },
  {
   "cell_type": "code",
   "execution_count": 196,
   "metadata": {},
   "outputs": [
    {
     "name": "stdout",
     "output_type": "stream",
     "text": [
      "Overwriting std_lib/par_02_correct.cpp\n"
     ]
    }
   ],
   "source": [
    "%%writefile std_lib/par_02_correct.cpp\n",
    "#include <iostream> \n",
    "#include <execution> \n",
    "#include <vector>\n",
    "#include <algorithm>\n",
    "#include <chrono>\n",
    "#include <random>\n",
    "#include <mutex>\n",
    "#include <numeric>\n",
    "#include <functional>\n",
    "namespace execution = std::execution; \n",
    "\n",
    "\n",
    "int ParSeq(std::vector<int>& v){\n",
    "    int sum = 0;\n",
    "    std::mutex m;\n",
    "\n",
    "    std::for_each(execution::par, v.begin(), v.end(), [&](int i){\n",
    "        std::lock_guard<std::mutex> lock(m);\n",
    "        sum += i;\n",
    "    });\n",
    "     \n",
    "    return sum;    \n",
    "}\n",
    "\n",
    "int ParUnseq_v1(std::vector<int> v){\n",
    "    std::atomic<int> sum{0};\n",
    "    std::for_each(execution::par_unseq, v.begin(), v.end(), \n",
    "    [&](int i){ sum+=i; });\n",
    "    \n",
    "    return sum.load();    \n",
    "}\n",
    "int ParUnseq_v2(std::vector<int> v){\n",
    "    std::vector<int> w(v.size());\n",
    "    int res = std::reduce(execution::par_unseq, v.begin(), v.end(),\n",
    "    0, std::plus<int>{});\n",
    "    return res;\n",
    "}\n",
    "\n",
    "int main(){\n",
    "    int size = 10000;\n",
    "    std::vector<int> v(size);  \n",
    "    for(int i=0; i < size; i++){\n",
    "        v[i] = rand() %1000;\n",
    "    }\n",
    "    \n",
    "    std::cout <<\"ParSeq     : \"<< ParSeq(v)<< std::endl;\n",
    "    std::cout <<\"ParUnseq_v1: \"<< ParUnseq_v1(v)<< std::endl;\n",
    "    std::cout <<\"ParUnseq_v2: \"<< ParUnseq_v2(v)<< std::endl;\n",
    "    \n",
    "    \n",
    "\n",
    "}"
   ]
  },
  {
   "cell_type": "code",
   "execution_count": 197,
   "metadata": {},
   "outputs": [
    {
     "name": "stdout",
     "output_type": "stream",
     "text": [
      "ParSeq     : 4969211\n",
      "ParUnseq_v1: 4969211\n",
      "ParUnseq_v2: 4969211\n"
     ]
    }
   ],
   "source": [
    "# !nvcc -std=c++23 -o std_lib/par_02 std_lib/par_02.cpp -ltbb && ./std_lib/par_02\n",
    "!g++ -std=c++23 -o std_lib/par_02_correct std_lib/par_02_correct.cpp -ltbb && ./std_lib/par_02_correct\n"
   ]
  },
  {
   "attachments": {},
   "cell_type": "markdown",
   "metadata": {},
   "source": [
    "## CheatSheet - STL \n",
    "```cpp\n",
    "// Iteration & Transform\n",
    "    std::for_each, std::for_each_n\n",
    "    std::transform, std::transform_reduce\n",
    "    std::transform_inclusive_scan, std::transform_exclusive_scan\n",
    "\n",
    "// Reduction\n",
    "std::reduce, std::transform_reduce\n",
    "std::is_sorted, std::is_sorted_until\n",
    "\n",
    "//Searching \n",
    "std::find, std::find_if\n",
    "\n",
    "//Reorder Elements\n",
    "std::sort, std::stable_sort, std::partial_sort, std::partial_sort_copy\n",
    "```\n"
   ]
  },
  {
   "attachments": {},
   "cell_type": "markdown",
   "metadata": {},
   "source": [
    "## Indexing, ranges e Views\n",
    "\n",
    "Em C++, podemos usar o indice dos loops:\n",
    "```cpp\n",
    "vector<double> v = {1,2,3,4}; \n",
    "for(int i=0;i<4; ++i)\n",
    "    v[i]=f(i);\n",
    "```\n",
    "\n",
    "Mas como realizar isso de maneira paralela? \n",
    "\n",
    "- __Opçao 1: Obter indice por meio do endereço - ineficiente__\n",
    "```cpp\n",
    "std::transform(begin(v), end(v), \n",
    "    [v=v.data()](const double &el){\n",
    "        ptrdiff_i i = &el - v;\n",
    "        return f(i);\n",
    "    });\n",
    "```\n",
    "- __Opção 2: usar iterador  (mais frequente)__\n",
    "```cpp \n",
    "\n",
    "thrust::counting_iterator<size_t> it{0};\n",
    "assert(*it == 0);\n",
    "\n",
    "std::for_each_n(it, v.size(),\n",
    "    [v = v.data()] (size_t i){\n",
    "        v[i] = f(i);\n",
    "    });\n",
    "```\n",
    "\n",
    "\n",
    "- __Opção 3: usar c++20 Ranges e Views__\n",
    "```cpp\n",
    "//Iteracao 1D\n",
    "auto ints = std::views::iota(0,4); \n",
    "std::for_each(std::execution::par, begin(ints), end(ints),\n",
    "    [v = v.data()] (size_t i){\n",
    "        v[i] = f(i);\n",
    "    });\n",
    "\n",
    "//Iteracao 2D \n",
    "namespace stdv = std::views; \n",
    "auto v = stdv::cartesian_product(stdv::iota(0,N), stdv::iota(0,M));\n",
    "\n",
    "std::for_each(std::execution::par, begin(v), end(v), \n",
    "    [] (auto& e) {\n",
    "        auto [i,j] = e;\n",
    "    });\n",
    "```\n",
    "\n",
    "\n"
   ]
  },
  {
   "attachments": {},
   "cell_type": "markdown",
   "metadata": {},
   "source": [
    "# Referencias Bibliográficas\n",
    "- [GPU Acceleration with the C++ Standard Library](https://courses.nvidia.com/courses/course-v1:DLI+S-AC-08+V1/)\n",
    "- [CPP Reference](https://en.cppreference.com/)"
   ]
  }
 ],
 "metadata": {
  "kernelspec": {
   "display_name": "Python 3",
   "language": "python",
   "name": "python3"
  },
  "language_info": {
   "codemirror_mode": {
    "name": "ipython",
    "version": 3
   },
   "file_extension": ".py",
   "mimetype": "text/x-python",
   "name": "python",
   "nbconvert_exporter": "python",
   "pygments_lexer": "ipython3",
   "version": "3.10.6"
  },
  "orig_nbformat": 4
 },
 "nbformat": 4,
 "nbformat_minor": 2
}
