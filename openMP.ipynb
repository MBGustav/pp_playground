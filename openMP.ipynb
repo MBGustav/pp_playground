{
 "cells": [
  {
   "cell_type": "markdown",
   "metadata": {},
   "source": [
    "# Primeiros passos com openMP\n",
    "## 1.Aplicação\n",
    "Resolução de problemas de maneira paralelizada.\n",
    "Resolução de problemas com independencia de dados, bem como aceleração de problemas já existentes. \n",
    "Podemos medir seu desempenho pelo tempo de speed-up: \n",
    "- tempo de resposta \n",
    "- speed-up/processador\n",
    "- Eficiencia Energética: Mflops/Watt\n"
   ]
  },
  {
   "cell_type": "markdown",
   "metadata": {},
   "source": [
    "## 2. Primeiro contato\n",
    "Programação com Threads\n",
    "Suporte em multiplas plataformas e linguagens, com diferentes abstrações \n",
    "No nivel mais baixo, provido pelo SO, há primitivas para criar threads. \n",
    "\n",
    "API tradicional - Posix Threads(pthreads)\n",
    "\n",
    "### Modelo de programação\n",
    "- Criação de um time de threads para executar um bloco de código paralelo. \n",
    "- Time de threads pode replicar o codigo em paralelo, ou dividi-lo entre threads. \n",
    "- Threads podem ser criadas dinamicamente\n",
    "- Flexibilidade em definir como variaveis do programa serão `compartilhadas` ou `replicadas` entre threads. \n",
    "\n",
    "\n",
    "\n",
    "\n",
    "*Lembre-se*:\n",
    "\n",
    "- SIMD(Single Instruction Multiple Data) = Uma instrução executada para multiplos dados, de modo que a mesma instrução de uma unidade de controle e então executa em multiplo e diferentes dataSets. Isso permite que performe operações identicas em diferentes operandos. SIMD permite que 4, 8... 512 ? bits sejam executados no mesmo ciclo de clock. Vale lembrar tambem que SIMD usa `execution units` e nao `threads` ou `cores`.\n",
    "\n",
    "- SIMT(Single Instruction Multiple Threads) = Bem similar com SIMD, com a diferença que SIMT faz o uso de threads, em diferentes data-set's, reduzindo a latencia que vem com busca primaria de busca. \n",
    "\n",
    "- SMT(Simultaneous Multi-Threading) = Permite o core da CPU rodar multiplas threads ao mesmo tempo.  Teóricamente, voce pode ter 8 threads por core via SMT, mas é viável ter somente 2."
   ]
  },
  {
   "cell_type": "markdown",
   "metadata": {},
   "source": [
    "### Hello Word from openMP"
   ]
  },
  {
   "cell_type": "code",
   "execution_count": 42,
   "metadata": {},
   "outputs": [
    {
     "name": "stdout",
     "output_type": "stream",
     "text": [
      "Overwriting 01-intro.c\n"
     ]
    }
   ],
   "source": [
    "%%writefile 01-intro.c\n",
    "#include<stdio.h>\n",
    "#include<omp.h>\n",
    "\n",
    "int main(){\n",
    "\n",
    "  #pragma omp parallel\n",
    "  { // Inicio Paralelização\n",
    "    int ID = omp_get_thread_num();\n",
    "    printf(\"Hello thread %d  \", ID);\n",
    "    printf(\"Same thread %d\\n\", ID);\n",
    "\n",
    "  } // Final paralelização\n",
    "}\n"
   ]
  },
  {
   "cell_type": "code",
   "execution_count": 43,
   "metadata": {},
   "outputs": [
    {
     "name": "stdout",
     "output_type": "stream",
     "text": [
      "Hello thread 0  Same thread 0\n",
      "Hello thread 3  Same thread 3\n",
      "Hello thread 1  Same thread 1\n",
      "Hello thread 2  Same thread 2\n"
     ]
    }
   ],
   "source": [
    "!gcc -fopenmp 01-intro.c -o 01-intro; ./01-intro"
   ]
  },
  {
   "cell_type": "markdown",
   "metadata": {},
   "source": [
    "Observe o resultado, não necessariamente o ID do thread estará alinhado com a sequencia crescente. Isso ocorre porque as threads podem ser executadas concorrentemente. e em diferentes processadores, caso existam."
   ]
  },
  {
   "cell_type": "markdown",
   "metadata": {},
   "source": [
    "### Visao Geral de OpenMP\n",
    "- Modelo de multithreading de memória compartilhada. \n",
    "- Compartilhamento nao intencional de dado, que causa condições de corrida. \n",
    "- O programa de memória Compartilhada: instancia do programa -- um processo e muitas threads. Threads interagem através de leituras/escritas com o espaço de endereçamento compartilhado. \n",
    "- Escalonador SO decide quando executar cada thread(entrelaçado para ser justo). \n",
    "- Thread é basicamente uma pilha com uma parte do processo a ser executado, lembrando que variaveis globais/dinamicas podem ser acessadas por qualquer thread. \n",
    "- Threads podem ser criadas e destruidas ao longo da execução do programa, lembrando que a sincronização garante a ordem.\n"
   ]
  },
  {
   "cell_type": "markdown",
   "metadata": {},
   "source": [
    "### Criação de Threads: Regiões Paralelas\n"
   ]
  },
  {
   "cell_type": "code",
   "execution_count": 69,
   "metadata": {},
   "outputs": [
    {
     "name": "stdout",
     "output_type": "stream",
     "text": [
      "Overwriting 02-array.c\n"
     ]
    }
   ],
   "source": [
    "%%writefile 02-array.c\n",
    "#include<stdio.h>\n",
    "#include<omp.h>\n",
    "#include<assert.h>\n",
    "\n",
    "void fill(int pos, float val, float* A, int N)\n",
    "{\n",
    "  A[pos] = val;\n",
    "}\n",
    "\n",
    "const int N = 1000;\n",
    "int main(){\n",
    "\n",
    "  float A[N]; \n",
    "  #pragma omp parallel num_threads(4)\n",
    "  { \n",
    "    int ID = omp_get_thread_num();\n",
    "\n",
    "    fill(ID, 10.8, A, N);\n",
    "\n",
    "    \n",
    "\n",
    "  } \n",
    "}\n"
   ]
  },
  {
   "cell_type": "code",
   "execution_count": 67,
   "metadata": {},
   "outputs": [
    {
     "name": "stdout",
     "output_type": "stream",
     "text": [
      "910 ms ± 14.1 ms per loop (mean ± std. dev. of 7 runs, 1 loop each)\n"
     ]
    }
   ],
   "source": [
    "%timeit !gcc -fopenmp 02-array.c -o 02-array; ./02-array"
   ]
  },
  {
   "cell_type": "markdown",
   "metadata": {},
   "source": [
    "### Usando Laços em openMP"
   ]
  },
  {
   "cell_type": "code",
   "execution_count": 83,
   "metadata": {},
   "outputs": [
    {
     "name": "stdout",
     "output_type": "stream",
     "text": [
      "Overwriting 03-for_loop.c\n"
     ]
    }
   ],
   "source": [
    "%%writefile 03-for_OMP.c\n",
    "#include<stdio.h>\n",
    "#include<omp.h>\n",
    "#include<assert.h>\n",
    "\n",
    "\n",
    "const int N = 20;\n",
    "int main(){\n",
    "\n",
    "  float A[N]; \n",
    "  float B[N]; \n",
    "  // Fill vectors\n",
    "  for (int i = 0; i < N ; i++) {\n",
    "    A[i] = 1.5;\n",
    "    B[i] = 10.5; \n",
    "    }\n",
    "\n",
    "  #pragma omp parallel num_threads(4)\n",
    "  { //Abre um pool para \"x\" threads, e dividimos o trabalho entre si\n",
    "    int id, i, n_threads, i_start, i_end; \n",
    "    id = omp_get_thread_num();\n",
    "    n_threads = omp_get_num_threads(); \n",
    "    \n",
    "    //divisao de elementos pelo numero de threads\n",
    "    i_start =  id    * N / n_threads ; \n",
    "    i_start = (id+1) * N / n_threads ;\n",
    "\n",
    "    //impede de acessar memoria indevida\n",
    "    if(id == n_threads -1) i_end = N; \n",
    "    \n",
    "    #pragma omp for\n",
    "    for( i=i_start; i < i_end; i++){\n",
    "      A[i] = A[i] + B[i];\n",
    "    }     \n",
    "\n",
    "  } \n",
    "\n",
    "  return 0;\n",
    "}\n"
   ]
  },
  {
   "cell_type": "code",
   "execution_count": 86,
   "metadata": {},
   "outputs": [
    {
     "name": "stdout",
     "output_type": "stream",
     "text": [
      "Writing 03-for_serial.c\n"
     ]
    }
   ],
   "source": [
    "%%writefile 03-for_serial.c\n",
    "#include<stdio.h>\n",
    "#include<omp.h>\n",
    "#include<assert.h>\n",
    "\n",
    "\n",
    "const int N = 20;\n",
    "int main()\n",
    "{\n",
    "  float A[N]; \n",
    "  float B[N]; \n",
    "  // Fill vectors\n",
    "  for (int i = 0; i < N ; i++) {\n",
    "    A[i] = 1.5;\n",
    "    B[i] = 10.5; \n",
    "  }\n",
    "\n",
    "  for(int i = 0; i < N; i++)\n",
    "    A[i] = A[i] + B[i];\n",
    "\n",
    "  return 0;\n",
    "}\n"
   ]
  },
  {
   "cell_type": "code",
   "execution_count": 84,
   "metadata": {},
   "outputs": [
    {
     "name": "stdout",
     "output_type": "stream",
     "text": [
      "1.02 s ± 93.7 ms per loop (mean ± std. dev. of 7 runs, 1 loop each)\n"
     ]
    }
   ],
   "source": [
    "%timeit !gcc -fopenmp 03-for_OMP.c -o 03-for_OMP; ./03-for_OMP"
   ]
  },
  {
   "cell_type": "code",
   "execution_count": null,
   "metadata": {},
   "outputs": [],
   "source": []
  }
 ],
 "metadata": {
  "kernelspec": {
   "display_name": "Python 3.8.10 64-bit",
   "language": "python",
   "name": "python3"
  },
  "language_info": {
   "codemirror_mode": {
    "name": "ipython",
    "version": 3
   },
   "file_extension": ".py",
   "mimetype": "text/x-python",
   "name": "python",
   "nbconvert_exporter": "python",
   "pygments_lexer": "ipython3",
   "version": "3.8.10"
  },
  "orig_nbformat": 4,
  "vscode": {
   "interpreter": {
    "hash": "31f2aee4e71d21fbe5cf8b01ff0e069b9275f58929596ceb00d14d90e3e16cd6"
   }
  }
 },
 "nbformat": 4,
 "nbformat_minor": 2
}
